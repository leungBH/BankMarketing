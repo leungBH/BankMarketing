{
 "cells": [
  {
   "cell_type": "code",
   "execution_count": 3,
   "metadata": {},
   "outputs": [],
   "source": [
    "import pandas as pd\n",
    "import pandas as numpy\n",
    "original_data_path = \"../original_data/bank-additional.csv\"\n",
    "processed_data_path = \"../processed_data/bank-additional.csv\""
   ]
  },
  {
   "cell_type": "code",
   "execution_count": 6,
   "metadata": {},
   "outputs": [],
   "source": [
    "bank_data_small = pd.read_csv(original_data_path,sep=\";\") "
   ]
  },
  {
   "cell_type": "markdown",
   "metadata": {},
   "source": [
    "查看数据的基本情况，一共21列，最后一列为要预测的目标。"
   ]
  },
  {
   "cell_type": "code",
   "execution_count": 55,
   "metadata": {},
   "outputs": [
    {
     "name": "stdout",
     "output_type": "stream",
     "text": [
      "<class 'pandas.core.frame.DataFrame'>\n",
      "RangeIndex: 4119 entries, 0 to 4118\n",
      "Data columns (total 21 columns):\n",
      "age               4119 non-null int64\n",
      "job               4119 non-null object\n",
      "marital           4119 non-null object\n",
      "education         4119 non-null object\n",
      "default           4119 non-null object\n",
      "housing           4119 non-null object\n",
      "loan              4119 non-null object\n",
      "contact           4119 non-null object\n",
      "month             4119 non-null object\n",
      "day_of_week       4119 non-null object\n",
      "duration          4119 non-null int64\n",
      "campaign          4119 non-null int64\n",
      "pdays             4119 non-null int64\n",
      "previous          4119 non-null int64\n",
      "poutcome          4119 non-null object\n",
      "emp.var.rate      4119 non-null float64\n",
      "cons.price.idx    4119 non-null float64\n",
      "cons.conf.idx     4119 non-null float64\n",
      "euribor3m         4119 non-null float64\n",
      "nr.employed       4119 non-null float64\n",
      "y                 4119 non-null object\n",
      "dtypes: float64(5), int64(5), object(11)\n",
      "memory usage: 675.9+ KB\n",
      "None\n"
     ]
    }
   ],
   "source": [
    "print(bank_data_small.info())"
   ]
  },
  {
   "cell_type": "markdown",
   "metadata": {},
   "source": [
    "查看数值型数据的分布情况"
   ]
  },
  {
   "cell_type": "code",
   "execution_count": 79,
   "metadata": {},
   "outputs": [
    {
     "data": {
      "text/plain": [
       "Int64Index([ 148,  229,  239,  344,  354,  467,  480,  499,  501,  528,  615,\n",
       "             936,  949, 1058, 1082, 1108, 1282, 1329, 1383, 1464, 1618, 1642,\n",
       "            1760, 1831, 1983, 2075, 2229, 2287, 2543, 2709, 2765, 2851, 3147,\n",
       "            3276, 3424, 3550, 3579, 3933, 4009],\n",
       "           dtype='int64')"
      ]
     },
     "execution_count": 79,
     "metadata": {},
     "output_type": "execute_result"
    }
   ],
   "source": [
    "bank_data_small[bank_data_small['job'] == \"unknown\"]"
   ]
  },
  {
   "cell_type": "code",
   "execution_count": 85,
   "metadata": {},
   "outputs": [
    {
     "name": "stdout",
     "output_type": "stream",
     "text": [
      "Percentage of \"unknown\" in job： 39 / 4119\n",
      "Percentage of \"unknown\" in marital： 11 / 4119\n",
      "Percentage of \"unknown\" in education： 167 / 4119\n",
      "Percentage of \"unknown\" in default： 803 / 4119\n",
      "Percentage of \"unknown\" in housing： 105 / 4119\n",
      "Percentage of \"unknown\" in loan： 105 / 4119\n",
      "Percentage of \"unknown\" in contact： 0 / 4119\n",
      "Percentage of \"unknown\" in month： 0 / 4119\n",
      "Percentage of \"unknown\" in day_of_week： 0 / 4119\n",
      "Percentage of \"unknown\" in poutcome： 0 / 4119\n",
      "Percentage of \"unknown\" in y： 0 / 4119\n"
     ]
    }
   ],
   "source": [
    "for col in bank_data_small.columns:\n",
    "    if bank_data_small[col].dtype == object:\n",
    "        print(\"Percentage of \\\"unknown\\\" in %s：\" %col ,bank_data_small[bank_data_small[col] == \"unknown\"][col].count(),\"/\",bank_data_small[col].count())"
   ]
  },
  {
   "cell_type": "code",
   "execution_count": 108,
   "metadata": {
    "scrolled": true
   },
   "outputs": [
    {
     "name": "stdout",
     "output_type": "stream",
     "text": [
      "0.10949259529011895\n",
      "job\n",
      "admin.           0.131423\n",
      "blue-collar      0.069005\n",
      "entrepreneur     0.054054\n",
      "housemaid        0.100000\n",
      "management       0.092593\n",
      "retired          0.228916\n",
      "self-employed    0.081761\n",
      "services         0.089059\n",
      "student          0.231707\n",
      "technician       0.115774\n",
      "unemployed       0.171171\n",
      "unknown          0.102564\n",
      "dtype: float64\n",
      "marital\n",
      "divorced    0.096413\n",
      "married     0.100438\n",
      "single      0.134432\n",
      "unknown     0.090909\n",
      "dtype: float64\n",
      "education\n",
      "basic.4y               0.088578\n",
      "basic.6y               0.074561\n",
      "basic.9y               0.074913\n",
      "high.school            0.105320\n",
      "illiterate             0.000000\n",
      "professional.course    0.121495\n",
      "university.degree      0.130538\n",
      "unknown                0.155689\n",
      "dtype: float64\n",
      "default\n",
      "no         0.121267\n",
      "unknown    0.061021\n",
      "yes        0.000000\n",
      "dtype: float64\n",
      "housing\n",
      "no         0.109842\n",
      "unknown    0.085714\n",
      "yes        0.110345\n",
      "dtype: float64\n",
      "loan\n",
      "no         0.111675\n",
      "unknown    0.085714\n",
      "yes        0.102256\n",
      "dtype: float64\n",
      "contact\n",
      "cellular     0.141403\n",
      "telephone    0.051806\n",
      "dtype: float64\n",
      "month\n",
      "apr    0.167442\n",
      "aug    0.100629\n",
      "dec    0.545455\n",
      "jul    0.082982\n",
      "jun    0.128302\n",
      "mar    0.583333\n",
      "may    0.065312\n",
      "nov    0.096413\n",
      "oct    0.362319\n",
      "sep    0.406250\n",
      "dtype: float64\n",
      "day_of_week\n",
      "fri    0.108073\n",
      "mon    0.114620\n",
      "thu    0.111628\n",
      "tue    0.108205\n",
      "wed    0.104403\n",
      "dtype: float64\n",
      "poutcome\n",
      "failure        0.147577\n",
      "nonexistent    0.082884\n",
      "success        0.647887\n",
      "dtype: float64\n",
      "y\n",
      "no     0.0\n",
      "yes    1.0\n",
      "dtype: float64\n"
     ]
    }
   ],
   "source": [
    "print(bank_data_small['y'][bank_data_small['y']== 'yes'].count()/bank_data_small['y'].count())\n",
    "for col in bank_data_small.columns:\n",
    "    if bank_data_small[col].dtype == object:\n",
    "        print(bank_data_small.groupby(bank_data_small[col]).apply(lambda x: x['y'][x['y']== 'yes'].count()/x['y'].count()))"
   ]
  },
  {
   "cell_type": "code",
   "execution_count": 12,
   "metadata": {},
   "outputs": [
    {
     "name": "stdout",
     "output_type": "stream",
     "text": [
      "               age     duration     campaign        pdays     previous  \\\n",
      "count  4119.000000  4119.000000  4119.000000  4119.000000  4119.000000   \n",
      "mean     40.113620   256.788055     2.537266   960.422190     0.190337   \n",
      "std      10.313362   254.703736     2.568159   191.922786     0.541788   \n",
      "min      18.000000     0.000000     1.000000     0.000000     0.000000   \n",
      "25%      32.000000   103.000000     1.000000   999.000000     0.000000   \n",
      "50%      38.000000   181.000000     2.000000   999.000000     0.000000   \n",
      "75%      47.000000   317.000000     3.000000   999.000000     0.000000   \n",
      "max      88.000000  3643.000000    35.000000   999.000000     6.000000   \n",
      "\n",
      "       emp.var.rate  cons.price.idx  cons.conf.idx    euribor3m  nr.employed  \n",
      "count   4119.000000     4119.000000    4119.000000  4119.000000  4119.000000  \n",
      "mean       0.084972       93.579704     -40.499102     3.621356  5166.481695  \n",
      "std        1.563114        0.579349       4.594578     1.733591    73.667904  \n",
      "min       -3.400000       92.201000     -50.800000     0.635000  4963.600000  \n",
      "25%       -1.800000       93.075000     -42.700000     1.334000  5099.100000  \n",
      "50%        1.100000       93.749000     -41.800000     4.857000  5191.000000  \n",
      "75%        1.400000       93.994000     -36.400000     4.961000  5228.100000  \n",
      "max        1.400000       94.767000     -26.900000     5.045000  5228.100000  \n"
     ]
    }
   ],
   "source": [
    "print(bank_data_small.describe())"
   ]
  },
  {
   "cell_type": "code",
   "execution_count": 11,
   "metadata": {},
   "outputs": [
    {
     "name": "stdout",
     "output_type": "stream",
     "text": [
      "   age          job  marital          education default  housing     loan  \\\n",
      "0   30  blue-collar  married           basic.9y      no      yes       no   \n",
      "1   39     services   single        high.school      no       no       no   \n",
      "2   25     services  married        high.school      no      yes       no   \n",
      "3   38     services  married           basic.9y      no  unknown  unknown   \n",
      "4   47       admin.  married  university.degree      no      yes       no   \n",
      "\n",
      "     contact month day_of_week ...  campaign  pdays  previous     poutcome  \\\n",
      "0   cellular   may         fri ...         2    999         0  nonexistent   \n",
      "1  telephone   may         fri ...         4    999         0  nonexistent   \n",
      "2  telephone   jun         wed ...         1    999         0  nonexistent   \n",
      "3  telephone   jun         fri ...         3    999         0  nonexistent   \n",
      "4   cellular   nov         mon ...         1    999         0  nonexistent   \n",
      "\n",
      "  emp.var.rate  cons.price.idx  cons.conf.idx  euribor3m  nr.employed   y  \n",
      "0         -1.8          92.893          -46.2      1.313       5099.1  no  \n",
      "1          1.1          93.994          -36.4      4.855       5191.0  no  \n",
      "2          1.4          94.465          -41.8      4.962       5228.1  no  \n",
      "3          1.4          94.465          -41.8      4.959       5228.1  no  \n",
      "4         -0.1          93.200          -42.0      4.191       5195.8  no  \n",
      "\n",
      "[5 rows x 21 columns]\n"
     ]
    }
   ],
   "source": [
    "print(bank_data_small.head())"
   ]
  }
 ],
 "metadata": {
  "kernelspec": {
   "display_name": "Python 3",
   "language": "python",
   "name": "python3"
  },
  "language_info": {
   "codemirror_mode": {
    "name": "ipython",
    "version": 3
   },
   "file_extension": ".py",
   "mimetype": "text/x-python",
   "name": "python",
   "nbconvert_exporter": "python",
   "pygments_lexer": "ipython3",
   "version": "3.6.7"
  }
 },
 "nbformat": 4,
 "nbformat_minor": 2
}
