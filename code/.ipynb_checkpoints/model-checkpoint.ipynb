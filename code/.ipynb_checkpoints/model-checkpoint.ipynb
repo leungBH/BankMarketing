{
 "cells": [
  {
   "cell_type": "code",
   "execution_count": 1,
   "metadata": {},
   "outputs": [],
   "source": [
    "import pandas as pd\n",
    "import numpy as np\n",
    "from sklearn.model_selection import train_test_split\n",
    "processed_data_path = \"../processed_data/\""
   ]
  },
  {
   "cell_type": "code",
   "execution_count": 2,
   "metadata": {},
   "outputs": [],
   "source": [
    "X_train = pd.read_csv(processed_data_path+\"X_train.csv\")\n",
    "X_test = pd.read_csv(processed_data_path+\"X_test.csv\")\n",
    "y_train = pd.read_csv(processed_data_path+\"y_train.csv\")\n",
    "y_test = pd.read_csv(processed_data_path+\"y_test.csv\")\n",
    "y_test = y_test.values.squeeze()"
   ]
  },
  {
   "cell_type": "code",
   "execution_count": 3,
   "metadata": {},
   "outputs": [],
   "source": [
    "#print(X_train.info())"
   ]
  },
  {
   "cell_type": "code",
   "execution_count": 4,
   "metadata": {},
   "outputs": [],
   "source": [
    "def score(y, pred):\n",
    "    TP = 0\n",
    "    FP = 0\n",
    "    FN = 0\n",
    "    TN = 0\n",
    "    for i in range(0, len(y)):\n",
    "        if int(pred[i]) == 1:\n",
    "            if int(y[i]) == 1:\n",
    "                TP = TP + 1\n",
    "            else:\n",
    "                FP = FP + 1\n",
    "        else:\n",
    "            if int(y[i]) == 1:\n",
    "                FN = FN + 1\n",
    "            else:\n",
    "                TN = TN + 1\n",
    "    return TP, TN, FP, FN"
   ]
  },
  {
   "cell_type": "code",
   "execution_count": null,
   "metadata": {},
   "outputs": [],
   "source": [
    "X_train, X_val, y_train, y_val = train_test_split(X_train, y_train, test_size=0.3, random_state=42)"
   ]
  },
  {
   "cell_type": "code",
   "execution_count": null,
   "metadata": {},
   "outputs": [],
   "source": [
    "train_data = X_train\n",
    "train_data['y'] = y_train\n",
    "\n",
    "#分离正负样本\n",
    "pos_train_data = train_data[train_data['y'] == 1]\n",
    "neg_train_data = train_data[train_data['y'] == 0]\n",
    "pos_train_data.reset_index(drop = True, inplace = True)\n",
    "neg_train_data.reset_index(drop = True, inplace = True)\n",
    "#new_count = n * pos_train_data['y'].count()"
   ]
  },
  {
   "cell_type": "code",
   "execution_count": null,
   "metadata": {},
   "outputs": [],
   "source": [
    "#print(pos_train_data.reset_index().head())\n",
    "#print(pos_train_data.reset_index().describe())"
   ]
  },
  {
   "cell_type": "code",
   "execution_count": null,
   "metadata": {},
   "outputs": [],
   "source": [
    "from sklearn.neighbors import NearestNeighbors\n",
    "import random\n",
    "\n",
    "def smote_up_sample(data,N):    \n",
    "    #近邻数k\n",
    "    k = 3\n",
    "    #上采样倍率N\n",
    "    N = 1\n",
    "    #选择用于评估样本点距离的特征\n",
    "    feature = ['age', 'duration', 'campaign', 'pdays', 'previous','emp.var.rate', 'cons.price.idx', 'cons.conf.idx','euribor3m', 'nr.employed']\n",
    "               \n",
    "    #feature = data.columns\n",
    "    #feature = ['age',  'campaign',  'cons.conf.idx',  'cons.price.idx'] \n",
    "\n",
    "    #new_data用于存放插值得到的样本\n",
    "    new_data = np.zeros((data.shape[0]*N,len(feature)))\n",
    "    newdf = data.copy()\n",
    "    #print(data.head())\n",
    "    neighbors = NearestNeighbors(n_neighbors=k).fit(data.loc[:,feature].values)\n",
    "    for i in range(data.shape[0]):\n",
    "        #print(data.shape[0]*N)\n",
    "        point = data.loc[i,feature]\n",
    "        #print(point.values.reshape(1, -1))\n",
    "        distances, indices = neighbors.kneighbors(point.values.reshape(1, -1))\n",
    "        nn = random.randint(1,k-1)\n",
    "        dis = data.loc[indices[0,nn],feature].values.reshape(1, -1) - data.loc[i,feature].values.reshape(1, -1)\n",
    "        gap = random.random()\n",
    "        new_data[i] = data.loc[i,feature].values.reshape(1, -1) + dis * gap\n",
    "        newdf.loc[i,feature] = new_data[i]             \n",
    "    data = data.append(newdf)\n",
    "    return data"
   ]
  },
  {
   "cell_type": "code",
   "execution_count": null,
   "metadata": {},
   "outputs": [],
   "source": [
    "#对正样本进行somte过采样\n",
    "#print(pos_train_data.head())\n",
    "pos_train_data = smote_up_sample(pos_train_data,N=2)\n",
    "\n",
    "#pos_train_data = smote_up_sample(pos_train_data)\n",
    "#简单复制正样本\n",
    "#pos_train_data = pd.concat([pos_train_data, pos_train_data],sort=False)\n",
    "#对负样本欠采样\n",
    "neg_train_data = neg_train_data.sample(frac = 0.7)\n",
    "#重新拼接正负样本\n",
    "train_data_sample = pd.concat([pos_train_data, neg_train_data],sort=False)\n",
    "\n",
    "X_train = train_data_sample.drop(['y'],axis =1)\n",
    "y_train = train_data_sample['y']\n"
   ]
  },
  {
   "cell_type": "code",
   "execution_count": null,
   "metadata": {},
   "outputs": [
    {
     "name": "stdout",
     "output_type": "stream",
     "text": [
      "(19549, 45)\n"
     ]
    }
   ],
   "source": [
    "#用PCA做降维处理\n",
    "from sklearn.decomposition import PCA\n",
    "pca = PCA(n_components=45)\n",
    "pca.fit_transform(X_train)\n",
    "X_train = pca.transform(X_train)\n",
    "X_test = pca.transform(X_test)\n",
    "X_val = pca.transform(X_val)\n",
    "print(X_train.shape)"
   ]
  },
  {
   "cell_type": "code",
   "execution_count": null,
   "metadata": {},
   "outputs": [],
   "source": [
    "\"\"\"\n",
    "from sklearn.tree import DecisionTreeClassifier\n",
    "dc = DecisionTreeClassifier()\n",
    "dc.fit(X_train, y_train) \n",
    "y_train_pred = dc.predict(X_train)\n",
    "y_test_pred = dc.predict(X_test)\n",
    "y_val_pred = dc.predict(X_val)\n",
    "\"\"\"\n",
    "\n",
    "from sklearn.ensemble import RandomForestClassifier\n",
    "rf = RandomForestClassifier(n_estimators=400, oob_score=True)\n",
    "rf.fit(X_train, y_train) \n",
    "y_train_pred = rf.predict(X_train)\n",
    "y_test_pred = rf.predict(X_test)\n",
    "y_val_pred = rf.predict(X_val)\n",
    "\n",
    "\"\"\"\n",
    "from sklearn.ensemble import GradientBoostingClassifier\n",
    "gbc = GradientBoostingClassifier(n_estimators=400, learning_rate=1.0,max_depth=1, random_state=0)\n",
    "gbc.fit(X_train, y_train)\n",
    "y_train_pred = gbc.predict(X_train)\n",
    "y_test_pred = gbc.predict(X_test)\n",
    "y_val_pred = gbc.predict(X_val)\n",
    "\"\"\"\n",
    "\n",
    "\"\"\"\n",
    "from xgboost import XGBClassifier\n",
    "xgb = XGBClassifier()\n",
    "xgb.fit(X_train, y_train) \n",
    "y_train_pred = xgb.predict(X_train)\n",
    "y_test_pred = xgb.predict(X_test)\n",
    "y_val_pred = xgb.predict(X_val)\n",
    "\"\"\""
   ]
  },
  {
   "cell_type": "code",
   "execution_count": null,
   "metadata": {},
   "outputs": [],
   "source": [
    "from sklearn.metrics import classification_report\n",
    "\n",
    "print(\"Train set:\", classification_report(y_train, y_train_pred))\n",
    "print(\"Valiation set:\", classification_report(y_val, y_val_pred))\n",
    "print(\"Test set:\", classification_report(y_test, y_test_pred))\n",
    "\n",
    "from sklearn.metrics import f1_score\n",
    "f1_score(y_test, y_test_pred)\n",
    "TP, TN, FP, FN = score(y_test, y_test_pred)\n",
    "P = TP / (TP + FP)\n",
    "R = TP / (TP + FN)\n",
    "F1 = (2 * P * R) / (P + R)\n",
    "\n",
    "print(\"Percision：%f\"%P)\n",
    "print(\"Recall：%f\"%R)\n",
    "print(\"F1-score：%f\"%F1)"
   ]
  },
  {
   "cell_type": "code",
   "execution_count": null,
   "metadata": {},
   "outputs": [],
   "source": [
    "F_I = pd.DataFrame(rf.feature_importances_.reshape((1,-1)), columns = X_train.columns)\n",
    "print(F_I.columns.tolist())\n",
    "print(F_I.sort_index(axis = 1,ascending = True))"
   ]
  }
 ],
 "metadata": {
  "kernelspec": {
   "display_name": "Python 3",
   "language": "python",
   "name": "python3"
  },
  "language_info": {
   "codemirror_mode": {
    "name": "ipython",
    "version": 3
   },
   "file_extension": ".py",
   "mimetype": "text/x-python",
   "name": "python",
   "nbconvert_exporter": "python",
   "pygments_lexer": "ipython3",
   "version": "3.6.7"
  }
 },
 "nbformat": 4,
 "nbformat_minor": 2
}
