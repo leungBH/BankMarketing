{
 "cells": [
  {
   "cell_type": "code",
   "execution_count": 1,
   "metadata": {},
   "outputs": [],
   "source": [
    "import pandas as pd\n",
    "import numpy as np\n",
    "from sklearn.model_selection import train_test_split\n",
    "processed_data_path = \"../processed_data/\""
   ]
  },
  {
   "cell_type": "code",
   "execution_count": 2,
   "metadata": {},
   "outputs": [],
   "source": [
    "X_train = pd.read_csv(processed_data_path+\"X_train.csv\")\n",
    "X_test = pd.read_csv(processed_data_path+\"X_test.csv\")\n",
    "y_train = pd.read_csv(processed_data_path+\"y_train.csv\")\n",
    "y_test = pd.read_csv(processed_data_path+\"y_test.csv\")\n",
    "y_test = y_test.values.squeeze()"
   ]
  },
  {
   "cell_type": "code",
   "execution_count": 3,
   "metadata": {},
   "outputs": [],
   "source": [
    "#print(X_train.info())"
   ]
  },
  {
   "cell_type": "code",
   "execution_count": 4,
   "metadata": {},
   "outputs": [],
   "source": [
    "def score(y, pred):\n",
    "    TP = 0\n",
    "    FP = 0\n",
    "    FN = 0\n",
    "    TN = 0\n",
    "    for i in range(0, len(y)):\n",
    "        if int(pred[i]) == 1:\n",
    "            if int(y[i]) == 1:\n",
    "                TP = TP + 1\n",
    "            else:\n",
    "                FP = FP + 1\n",
    "        else:\n",
    "            if int(y[i]) == 1:\n",
    "                FN = FN + 1\n",
    "            else:\n",
    "                TN = TN + 1\n",
    "    return TP, TN, FP, FN"
   ]
  },
  {
   "cell_type": "code",
   "execution_count": 5,
   "metadata": {},
   "outputs": [],
   "source": [
    "X_train, X_val, y_train, y_val = train_test_split(X_train, y_train, test_size=0.25, random_state=12)"
   ]
  },
  {
   "cell_type": "code",
   "execution_count": 6,
   "metadata": {},
   "outputs": [],
   "source": [
    "train_data = X_train\n",
    "train_data['y'] = y_train\n",
    "\n",
    "#分离正负样本\n",
    "pos_train_data = train_data[train_data['y'] == 1]\n",
    "neg_train_data = train_data[train_data['y'] == 0]\n",
    "pos_train_data.reset_index(drop = True, inplace = True)\n",
    "neg_train_data.reset_index(drop = True, inplace = True)\n",
    "#new_count = n * pos_train_data['y'].count()"
   ]
  },
  {
   "cell_type": "code",
   "execution_count": 7,
   "metadata": {},
   "outputs": [],
   "source": [
    "#print(pos_train_data.reset_index().head())\n",
    "#print(pos_train_data.reset_index().describe())"
   ]
  },
  {
   "cell_type": "code",
   "execution_count": 8,
   "metadata": {},
   "outputs": [],
   "source": [
    "from sklearn.neighbors import NearestNeighbors\n",
    "import random\n",
    "\n",
    "def smote_up_sample(data,N):    \n",
    "    #近邻数k\n",
    "    k = 3\n",
    "    #上采样倍率N\n",
    "    N = 1\n",
    "    #选择用于评估样本点距离的特征\n",
    "    feature = ['age', 'duration', 'campaign', 'pdays', 'previous','emp.var.rate', 'cons.price.idx', 'cons.conf.idx','euribor3m', 'nr.employed']\n",
    "          \n",
    "    #feature = data.columns\n",
    "    #feature = ['duration','euribor3m','age','nr.employed','campaign','emp.var.rate', 'pdays','education', 'cons.price.idx ']\n",
    "\n",
    "    #new_data用于存放插值得到的样本\n",
    "    new_data = np.zeros((data.shape[0]*N,len(feature)))\n",
    "    newdf = data.copy()\n",
    "    #print(data.head())\n",
    "    neighbors = NearestNeighbors(n_neighbors=k).fit(data.loc[:,feature].values)\n",
    "    for i in range(data.shape[0]):\n",
    "        #print(data.shape[0]*N)\n",
    "        point = data.loc[i,feature]\n",
    "        #print(point.values.reshape(1, -1))\n",
    "        distances, indices = neighbors.kneighbors(point.values.reshape(1, -1))\n",
    "        nn = random.randint(1,k-1)\n",
    "        dis = data.loc[indices[0,nn],feature].values.reshape(1, -1) - data.loc[i,feature].values.reshape(1, -1)\n",
    "        gap = random.random()\n",
    "        new_data[i] = data.loc[i,feature].values.reshape(1, -1) + dis * gap\n",
    "        newdf.loc[i,feature] = new_data[i]             \n",
    "    data = data.append(newdf)\n",
    "    return data"
   ]
  },
  {
   "cell_type": "code",
   "execution_count": 9,
   "metadata": {},
   "outputs": [],
   "source": [
    "#对正样本进行somte过采样\n",
    "#print(pos_train_data.head())\n",
    "pos_train_data = smote_up_sample(pos_train_data,N=2)\n",
    "\n",
    "#pos_train_data = smote_up_sample(pos_train_data)\n",
    "#简单复制正样本\n",
    "#pos_train_data = pd.concat([pos_train_data, pos_train_data],sort=False)\n",
    "#对负样本欠采样\n",
    "neg_train_data = neg_train_data.sample(frac = 0.5,random_state=42)\n",
    "#重新拼接正负样本\n",
    "train_data_sample = pd.concat([pos_train_data, neg_train_data],sort=False)\n",
    "\n",
    "X_train = train_data_sample.drop(['y'],axis =1)\n",
    "y_train = train_data_sample['y']\n"
   ]
  },
  {
   "cell_type": "code",
   "execution_count": 10,
   "metadata": {},
   "outputs": [
    {
     "data": {
      "text/plain": [
       "'\\n#用PCA做降维处理\\nfrom sklearn.decomposition import PCA\\npca = PCA(n_components=45)\\npca.fit_transform(X_train)\\nX_train = pca.transform(X_train)\\nX_test = pca.transform(X_test)\\nX_val = pca.transform(X_val)\\nprint(X_train.shape)\\n'"
      ]
     },
     "execution_count": 10,
     "metadata": {},
     "output_type": "execute_result"
    }
   ],
   "source": [
    "\"\"\"\n",
    "#用PCA做降维处理\n",
    "from sklearn.decomposition import PCA\n",
    "pca = PCA(n_components=45)\n",
    "pca.fit_transform(X_train)\n",
    "X_train = pca.transform(X_train)\n",
    "X_test = pca.transform(X_test)\n",
    "X_val = pca.transform(X_val)\n",
    "print(X_train.shape)\n",
    "\"\"\""
   ]
  },
  {
   "cell_type": "code",
   "execution_count": 11,
   "metadata": {},
   "outputs": [
    {
     "name": "stderr",
     "output_type": "stream",
     "text": [
      "D:\\ProgramData\\Anaconda3\\lib\\site-packages\\sklearn\\ensemble\\weight_boosting.py:29: DeprecationWarning: numpy.core.umath_tests is an internal NumPy module and should not be imported. It will be removed in a future NumPy release.\n",
      "  from numpy.core.umath_tests import inner1d\n"
     ]
    },
    {
     "data": {
      "text/plain": [
       "'\\nfrom xgboost import XGBClassifier\\nxgb = XGBClassifier()\\nxgb.fit(X_train, y_train) \\ny_train_pred = xgb.predict(X_train)\\ny_test_pred = xgb.predict(X_test)\\ny_val_pred = xgb.predict(X_val)\\n'"
      ]
     },
     "execution_count": 11,
     "metadata": {},
     "output_type": "execute_result"
    }
   ],
   "source": [
    "\"\"\"\n",
    "from sklearn.tree import DecisionTreeClassifier\n",
    "dc = DecisionTreeClassifier()\n",
    "dc.fit(X_train, y_train) \n",
    "y_train_pred = dc.predict(X_train)\n",
    "y_test_pred = dc.predict(X_test)\n",
    "y_val_pred = dc.predict(X_val)\n",
    "\"\"\"\n",
    "\n",
    "from sklearn.ensemble import RandomForestClassifier\n",
    "rf = RandomForestClassifier(n_estimators=600, oob_score=True)\n",
    "rf.fit(X_train, y_train) \n",
    "y_train_pred = rf.predict(X_train)\n",
    "y_test_pred = rf.predict(X_test)\n",
    "y_val_pred = rf.predict(X_val)\n",
    "\n",
    "\n",
    "\"\"\"\n",
    "from sklearn.ensemble import GradientBoostingClassifier\n",
    "gbc = GradientBoostingClassifier(n_estimators=400, learning_rate=1.0,max_depth=1, random_state=0)\n",
    "gbc.fit(X_train, y_train)\n",
    "y_train_pred = gbc.predict(X_train)\n",
    "y_test_pred = gbc.predict(X_test)\n",
    "y_val_pred = gbc.predict(X_val)\n",
    "\"\"\"\n",
    "\n",
    "\"\"\"\n",
    "from xgboost import XGBClassifier\n",
    "xgb = XGBClassifier()\n",
    "xgb.fit(X_train, y_train) \n",
    "y_train_pred = xgb.predict(X_train)\n",
    "y_test_pred = xgb.predict(X_test)\n",
    "y_val_pred = xgb.predict(X_val)\n",
    "\"\"\""
   ]
  },
  {
   "cell_type": "code",
   "execution_count": 12,
   "metadata": {},
   "outputs": [
    {
     "name": "stderr",
     "output_type": "stream",
     "text": [
      "D:\\ProgramData\\Anaconda3\\lib\\site-packages\\matplotlib\\figure.py:418: UserWarning: matplotlib is currently using a non-GUI backend, so cannot show the figure\n",
      "  \"matplotlib is currently using a non-GUI backend, \"\n"
     ]
    }
   ],
   "source": [
    "import matplotlib.pyplot as plt\n",
    "#print(X_train.columns,rf.feature_importances_)\n",
    "f, ax = plt.subplots(figsize=(10, 5))\n",
    "plt.xticks(rotation=90)\n",
    "ax.bar(X_train.columns,rf.feature_importances_)\n",
    "ax.set_title(\"Feature Importances\")\n",
    "f.show()"
   ]
  },
  {
   "cell_type": "code",
   "execution_count": 13,
   "metadata": {},
   "outputs": [
    {
     "name": "stdout",
     "output_type": "stream",
     "text": [
      "Train set:              precision    recall  f1-score   support\n",
      "\n",
      "        0.0       1.00      1.00      1.00     10956\n",
      "        1.0       1.00      1.00      1.00      5602\n",
      "\n",
      "avg / total       1.00      1.00      1.00     16558\n",
      "\n",
      "Valiation set:              precision    recall  f1-score   support\n",
      "\n",
      "        0.0       0.97      0.91      0.94      7296\n",
      "        1.0       0.55      0.80      0.65       942\n",
      "\n",
      "avg / total       0.92      0.90      0.91      8238\n",
      "\n",
      "Test set:              precision    recall  f1-score   support\n",
      "\n",
      "        0.0       0.97      0.92      0.94      7341\n",
      "        1.0       0.54      0.73      0.62       897\n",
      "\n",
      "avg / total       0.92      0.90      0.91      8238\n",
      "\n",
      "Percision：0.541701\n",
      "Recall：0.731327\n",
      "F1-score：0.622391\n"
     ]
    }
   ],
   "source": [
    "from sklearn.metrics import classification_report\n",
    "\n",
    "print(\"Train set:\", classification_report(y_train, y_train_pred))\n",
    "print(\"Valiation set:\", classification_report(y_val, y_val_pred))\n",
    "print(\"Test set:\", classification_report(y_test, y_test_pred))\n",
    "\n",
    "from sklearn.metrics import f1_score\n",
    "f1_score(y_test, y_test_pred)\n",
    "TP, TN, FP, FN = score(y_test, y_test_pred)\n",
    "P = TP / (TP + FP)\n",
    "R = TP / (TP + FN)\n",
    "F1 = (2 * P * R) / (P + R)\n",
    "\n",
    "print(\"Percision：%f\"%P)\n",
    "print(\"Recall：%f\"%R)\n",
    "print(\"F1-score：%f\"%F1)"
   ]
  },
  {
   "cell_type": "code",
   "execution_count": 14,
   "metadata": {},
   "outputs": [
    {
     "name": "stdout",
     "output_type": "stream",
     "text": [
      "['feature_importances']\n",
      "<class 'pandas.core.frame.DataFrame'>\n",
      "Index: 50 entries, age to day_of_week_wed\n",
      "Data columns (total 1 columns):\n",
      "feature_importances    50 non-null float64\n",
      "dtypes: float64(1)\n",
      "memory usage: 3.3+ KB\n",
      "None\n",
      "[6.09596636e-02 2.64945986e-02 1.37449793e-07 1.26834004e-02\n",
      " 8.87919536e-03 3.39163339e-01 3.72332271e-02 2.48881576e-02\n",
      " 9.35536744e-03 4.27942236e-02 2.71053548e-02 3.15963723e-02\n",
      " 1.13116298e-01 7.15924163e-02 4.66060958e-03 7.60741912e-03\n",
      " 1.64780605e-02 8.36472888e-03 7.68881231e-03 2.75878915e-03\n",
      " 2.32701438e-03 5.20849936e-03 4.41351391e-03 3.43565455e-03\n",
      " 4.66125662e-03 3.69458020e-03 7.28433326e-03 2.12949603e-03\n",
      " 1.11733897e-03 4.90038141e-03 8.42628263e-03 7.86969221e-03\n",
      " 4.59171525e-04 7.61001060e-03 8.38875807e-03 4.08962593e-03\n",
      " 2.02365802e-03 4.33000756e-04 1.95987529e-03 2.65604742e-03\n",
      " 4.56240010e-03 8.96218773e-03 1.92288861e-03 6.24947700e-03\n",
      " 1.69241840e-03 8.09877685e-03 8.41858897e-03 8.12404965e-03\n",
      " 7.26422003e-03 8.19662998e-03]\n",
      "                      feature_importances\n",
      "duration                     3.391633e-01\n",
      "euribor3m                    1.131163e-01\n",
      "nr.employed                  7.159242e-02\n",
      "age                          6.095966e-02\n",
      "emp.var.rate                 4.279422e-02\n",
      "campaign                     3.723323e-02\n",
      "cons.conf.idx                3.159637e-02\n",
      "cons.price.idx               2.710535e-02\n",
      "education                    2.649460e-02\n",
      "pdays                        2.488816e-02\n",
      "poutcome_success             1.647806e-02\n",
      "housing                      1.268340e-02\n",
      "previous                     9.355367e-03\n",
      "month_may                    8.962188e-03\n",
      "loan                         8.879195e-03\n",
      "marital_married              8.426283e-03\n",
      "day_of_week_mon              8.418589e-03\n",
      "contact_telephone            8.388758e-03\n",
      "job_admin.                   8.364729e-03\n",
      "day_of_week_wed              8.196630e-03\n",
      "day_of_week_thu              8.124050e-03\n",
      "day_of_week_fri              8.098777e-03\n",
      "marital_single               7.869692e-03\n",
      "job_blue-collar              7.688812e-03\n",
      "contact_cellular             7.610011e-03\n",
      "poutcome_nonexistent         7.607419e-03\n",
      "job_technician               7.284333e-03\n",
      "day_of_week_tue              7.264220e-03\n",
      "month_oct                    6.249477e-03\n",
      "job_management               5.208499e-03\n",
      "marital_divorced             4.900381e-03\n",
      "job_services                 4.661257e-03\n",
      "poutcome_failure             4.660610e-03\n",
      "month_mar                    4.562400e-03\n",
      "job_retired                  4.413514e-03\n",
      "month_apr                    4.089626e-03\n",
      "job_student                  3.694580e-03\n",
      "job_self-employed            3.435655e-03\n",
      "job_entrepreneur             2.758789e-03\n",
      "month_jun                    2.656047e-03\n",
      "job_housemaid                2.327014e-03\n",
      "job_unemployed               2.129496e-03\n",
      "month_aug                    2.023658e-03\n",
      "month_jul                    1.959875e-03\n",
      "month_nov                    1.922889e-03\n",
      "month_sep                    1.692418e-03\n",
      "job_unknown                  1.117339e-03\n",
      "marital_unknown              4.591715e-04\n",
      "month_dec                    4.330008e-04\n",
      "default                      1.374498e-07\n"
     ]
    }
   ],
   "source": [
    "#F_I = pd.DataFrame(rf.feature_importances_.reshape((1,-1)), columns = X_train.columns)\n",
    "F_I = pd.DataFrame(rf.feature_importances_.reshape((-1,1)), index = X_train.columns, columns = ['feature_importances'])\n",
    "print(F_I.columns.tolist())\n",
    "print(F_I.info())\n",
    "print(rf.feature_importances_)\n",
    "print(F_I.sort_values(by = 'feature_importances', axis = 0,ascending = False))"
   ]
  }
 ],
 "metadata": {
  "kernelspec": {
   "display_name": "Python 3",
   "language": "python",
   "name": "python3"
  },
  "language_info": {
   "codemirror_mode": {
    "name": "ipython",
    "version": 3
   },
   "file_extension": ".py",
   "mimetype": "text/x-python",
   "name": "python",
   "nbconvert_exporter": "python",
   "pygments_lexer": "ipython3",
   "version": "3.6.7"
  },
  "toc": {
   "base_numbering": 1,
   "nav_menu": {},
   "number_sections": true,
   "sideBar": true,
   "skip_h1_title": false,
   "title_cell": "Table of Contents",
   "title_sidebar": "Contents",
   "toc_cell": false,
   "toc_position": {},
   "toc_section_display": true,
   "toc_window_display": false
  }
 },
 "nbformat": 4,
 "nbformat_minor": 2
}
