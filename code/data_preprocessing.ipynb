{
 "cells": [
  {
   "cell_type": "code",
   "execution_count": null,
   "metadata": {},
   "outputs": [],
   "source": [
    "import pandas as pd\n",
    "from sklearn import preprocessing\n",
    "import numpy as np\n",
    "original_data_path = \"../original_data/bank-additional.csv\"\n",
    "processed_data_path = \"../processed_data/bank-additional.csv\""
   ]
  },
  {
   "cell_type": "code",
   "execution_count": null,
   "metadata": {},
   "outputs": [],
   "source": [
    "bank_data_small = pd.read_csv(original_data_path,sep=\";\") "
   ]
  },
  {
   "cell_type": "code",
   "execution_count": null,
   "metadata": {},
   "outputs": [],
   "source": [
    "string_features = bank_data_small.columns[bank_data_small.dtypes  == \"object\"].to_series().values\n",
    "int_features = bank_data_small.columns[bank_data_small.dtypes  == \"int64\"].to_series().values\n",
    "float_features = bank_data_small.columns[bank_data_small.dtypes  == \"float64\"].to_series().values\n",
    "numeric_features = np.append(int_features,float_features)\n",
    "\n",
    "bin_features = ['default', 'housing', 'loan']\n",
    "order_features = ['education']\n",
    "disorder_features = ['poutcome', 'job', 'marital', 'contact', 'month','day_of_week']\n",
    "\n",
    "print(\"string_features:\",string_features)\n",
    "print(\"numeric_features:\",numeric_features)\n",
    "\n",
    "#print(\"bin_features:\",bin_features)\n",
    "#print(int_features)\n",
    "#print(float_features)\n"
   ]
  },
  {
   "cell_type": "code",
   "execution_count": null,
   "metadata": {},
   "outputs": [],
   "source": [
    "def numeric_features_perprocessing (numeric_features, bank_data):\n",
    "    scaler = preprocessing.StandardScaler()\n",
    "    #新版本中fit_transform的第一个参数必须为二维矩阵\n",
    "    bank_data[numeric_features] = scaler.fit_transform(bank_data[numeric_features])\n",
    "    return bank_data "
   ]
  },
  {
   "cell_type": "code",
   "execution_count": null,
   "metadata": {},
   "outputs": [],
   "source": [
    "def bin_features_perprocessing (bin_features, bank_data):\n",
    "    for i in bin_features:      \n",
    "        print(i)\n",
    "        bank_data[i].loc[bank_data[i] == 'yes'] = 1\n",
    "        bank_data[i].loc[bank_data[i] == 'no'] = 0\n",
    "        bank_data[i].loc[bank_data[i] == 'unknown'] = None \n",
    "        bank_data[i] = bank_data[i].astype(\"float\")\n",
    "    return bank_data"
   ]
  },
  {
   "cell_type": "code",
   "execution_count": null,
   "metadata": {},
   "outputs": [],
   "source": [
    "def order_features_perprocessing (order_features,bank_data):\n",
    "    education_values = [\"illiterate\", \"basic.4y\", \"basic.6y\", \"basic.9y\", \n",
    "    \"high.school\",  \"professional.course\", \"university.degree\",\"unknown\"]\n",
    "    replace_values = list(range(1,  len(education_values)))\n",
    "    replace_values.append(None)\n",
    "    print(replace_values)\n",
    "    #除了replace也可以用map()\n",
    "    bank_data[order_features] = bank_data[order_features].replace(education_values,replace_values)\n",
    "    bank_data[order_features] = bank_data[order_features].astype(\"float\")\n",
    "    return bank_data"
   ]
  },
  {
   "cell_type": "code",
   "execution_count": null,
   "metadata": {},
   "outputs": [],
   "source": [
    "def disorder_features_perprocessing (disorder_features, bank_data):\n",
    "    for features in disorder_features:\n",
    "        #做onehot\n",
    "        features_onehot = pd.get_dummies(bank_data[features])\n",
    "        #把名字改成features_values\n",
    "        features_onehot = features_onehot.rename(columns=lambda x: features+'_'+str(x))\n",
    "        #拼接onehot得到的新features\n",
    "        bank_data = pd.concat([bank_data,features_onehot],axis=1)\n",
    "        #删掉原来的feature columns\n",
    "        bank_data = bank_data.drop(features, axis=1)\n",
    "    return bank_data"
   ]
  },
  {
   "cell_type": "code",
   "execution_count": null,
   "metadata": {},
   "outputs": [],
   "source": [
    "print(bank_data_small.head())\n",
    "bank_data_small_clean = numeric_features_perprocessing(numeric_features, bank_data_small)\n",
    "bank_data_small_clean = bin_features_perprocessing(bin_features, bank_data_small)\n",
    "bank_data_small_clean = order_features_perprocessing(order_features, bank_data_small)\n",
    "bank_data_small_clean = disorder_features_perprocessing(disorder_features, bank_data_small)\n",
    "print(bank_data_small_clean.head())"
   ]
  },
  {
   "cell_type": "code",
   "execution_count": null,
   "metadata": {},
   "outputs": [],
   "source": [
    "print(bank_data_small_clean.info())"
   ]
  },
  {
   "cell_type": "code",
   "execution_count": null,
   "metadata": {},
   "outputs": [],
   "source": [
    "print(bank_data_small_clean.head())\n",
    "bank_data_small_clean = bank_data_small_clean.fillna(bank_data_small_clean.mean())\n",
    "print(bank_data_small_clean.head())\n",
    "#y_train = bank_data_small_clean['y']\n",
    "#X_train = bank_data_small_clean.drop(columns=['y'])"
   ]
  },
  {
   "cell_type": "code",
   "execution_count": null,
   "metadata": {},
   "outputs": [],
   "source": [
    "print(bank_data_small_clean.describe())\n",
    "print(bank_data_small_clean.info())"
   ]
  }
 ],
 "metadata": {
  "kernelspec": {
   "display_name": "Python 3",
   "language": "python",
   "name": "python3"
  },
  "language_info": {
   "codemirror_mode": {
    "name": "ipython",
    "version": 3
   },
   "file_extension": ".py",
   "mimetype": "text/x-python",
   "name": "python",
   "nbconvert_exporter": "python",
   "pygments_lexer": "ipython3",
   "version": "3.6.7"
  }
 },
 "nbformat": 4,
 "nbformat_minor": 2
}
